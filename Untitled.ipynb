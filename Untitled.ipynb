{
 "cells": [
  {
   "cell_type": "code",
   "execution_count": 1,
   "id": "1e8fd734",
   "metadata": {},
   "outputs": [],
   "source": [
    "import cv2 # pip install  opencv -python"
   ]
  },
  {
   "cell_type": "code",
   "execution_count": 2,
   "id": "d13e142d",
   "metadata": {},
   "outputs": [],
   "source": [
    "import matplotlib.pyplot as plt # pip install matplotlib"
   ]
  },
  {
   "cell_type": "code",
   "execution_count": null,
   "id": "3d6c51b9",
   "metadata": {},
   "outputs": [],
   "source": [
    "#config  files are used to store key value pairs or some configurable information that could be read or accessed "
   ]
  },
  {
   "cell_type": "code",
   "execution_count": null,
   "id": "d753d014",
   "metadata": {},
   "outputs": [],
   "source": [
    "# frozen graphs are commonly "
   ]
  },
  {
   "cell_type": "code",
   "execution_count": 3,
   "id": "d5adc369",
   "metadata": {},
   "outputs": [],
   "source": [
    "config_file = 'ssd_mobilenet_v3_large_coco_2020_01_14.pbtxt' # creating a config file to store all parameters\n",
    "forzen_model = 'frozen_inference_graph.pb'"
   ]
  },
  {
   "cell_type": "code",
   "execution_count": null,
   "id": "cea619be",
   "metadata": {},
   "outputs": [],
   "source": [
    "model = cv2.dnn_DetectionModel(forzen_model,config_file)"
   ]
  },
  {
   "cell_type": "code",
   "execution_count": null,
   "id": "90465dbe",
   "metadata": {},
   "outputs": [],
   "source": [
    "ClassLabels = []\n",
    "file_name = 'Labels.txt'\n",
    "with open(file_name, 'rt') as fpt:\n",
    "    ClassLabels = fpt.read().rstrip('\\n').split('\\n')"
   ]
  },
  {
   "cell_type": "code",
   "execution_count": null,
   "id": "a14b04b6",
   "metadata": {},
   "outputs": [],
   "source": [
    "print(ClassLabels)"
   ]
  },
  {
   "cell_type": "code",
   "execution_count": null,
   "id": "faeb71e9",
   "metadata": {},
   "outputs": [],
   "source": [
    "print(len(ClassLabels))"
   ]
  },
  {
   "cell_type": "code",
   "execution_count": null,
   "id": "a1d90355",
   "metadata": {},
   "outputs": [],
   "source": [
    "model.setInputSize(320,320)\n",
    "model.setInputScale(1.0/127.5)\n",
    "model.setInputMean((127.5,127.5,127.5))\n",
    "model.setInputSwapRB(True)"
   ]
  },
  {
   "cell_type": "markdown",
   "id": "ab678970",
   "metadata": {},
   "source": [
    "# Reading Image"
   ]
  },
  {
   "cell_type": "code",
   "execution_count": null,
   "id": "10587d24",
   "metadata": {},
   "outputs": [],
   "source": [
    "img = cv2.imread('person.jpeg')"
   ]
  },
  {
   "cell_type": "code",
   "execution_count": null,
   "id": "579c09c2",
   "metadata": {},
   "outputs": [],
   "source": [
    "plt.imshow(img)"
   ]
  },
  {
   "cell_type": "code",
   "execution_count": null,
   "id": "93f414cc",
   "metadata": {},
   "outputs": [],
   "source": [
    "plt.imshow(cv2.cvtColor(img,cv2.COLOR_BGR2RGB))"
   ]
  },
  {
   "cell_type": "code",
   "execution_count": null,
   "id": "55b64947",
   "metadata": {},
   "outputs": [],
   "source": [
    "ClassIndex, confidece , bbox=model.detect(img,confThreshold=0.5)"
   ]
  },
  {
   "cell_type": "code",
   "execution_count": null,
   "id": "f60f3213",
   "metadata": {},
   "outputs": [],
   "source": [
    "print(ClassIndex)"
   ]
  },
  {
   "cell_type": "code",
   "execution_count": null,
   "id": "228fef83",
   "metadata": {},
   "outputs": [],
   "source": [
    "print(confidece)"
   ]
  },
  {
   "cell_type": "code",
   "execution_count": null,
   "id": "5766804a",
   "metadata": {},
   "outputs": [],
   "source": [
    "font_scale=3\n",
    "font= cv2.FONT_HERSHEY_PLAIN\n",
    "for ClassInd, conf, boxes in zip(ClassIndex.flatten(), confidece.flatten(), bbox):\n",
    "    cv2.rectangle(img, boxes, (255,0,0), 2)\n",
    "    cv2.putText(img,ClassLabels[ClassInd-1], (boxes[0]+10, boxes[1]+40), font, fontScale=font_scale, color=(0,255,0), thickness=3)"
   ]
  },
  {
   "cell_type": "code",
   "execution_count": null,
   "id": "c6e1bb5e",
   "metadata": {},
   "outputs": [],
   "source": [
    "plt.imshow(cv2.cvtColor(img,cv2.COLOR_BGR2RGB))"
   ]
  },
  {
   "cell_type": "markdown",
   "id": "6a5f2838",
   "metadata": {},
   "source": [
    "# Video"
   ]
  },
  {
   "cell_type": "code",
   "execution_count": null,
   "id": "82e4192b",
   "metadata": {},
   "outputs": [],
   "source": [
    "cap = cv2.VideoCapture(\"vediosample.mp4\")\n",
    "if not cap.isOpened():\n",
    "    cap = cv2.VideoCapture(0)\n",
    "if not cap.isOpened():\n",
    "    raise IOError(\"Video can't open\")\n",
    "    \n",
    "font_scale=3\n",
    "font= cv2.FONT_HERSHEY_PLAIN\n",
    "while True:\n",
    "    ret,frame= cap.read()\n",
    "    \n",
    "    ClassIndex, confidece, bbox=model.detect(frame,confThreshold=0.55)\n",
    "    \n",
    "    print(ClassIndex)\n",
    "    \n",
    "    if(len(ClassIndex)!=0):\n",
    "        for ClassInd, conf, boxes in zip(ClassIndex.flatten(),confidece.flatten(), bbox):\n",
    "            if(ClassInd<=80):\n",
    "                cv2.rectangle(frame,boxes,(255,0,0),2)\n",
    "                cv2.putText(frame,ClassLabels[ClassInd-1],(boxes[0]+10, boxes[1]+40), font, fontScale=font_scale, color=(0,255,0), thickness=3)\n",
    "    cv2.imshow('object detection Tutorial',frame)\n",
    "    \n",
    "    if cv2.waitKey(2)& 0xFF==ord('q'):\n",
    "        break\n",
    "\n",
    "cap.release()\n",
    "cv2.destroyAllWindows()"
   ]
  },
  {
   "cell_type": "markdown",
   "id": "09f3dc8d",
   "metadata": {},
   "source": [
    "# real time"
   ]
  },
  {
   "cell_type": "code",
   "execution_count": null,
   "id": "8abd664a",
   "metadata": {},
   "outputs": [],
   "source": [
    "cap = cv2.VideoCapture(\"1\")\n",
    "if not cap.isOpened():\n",
    "    cap = cv2.VideoCapture(0)\n",
    "if not cap.isOpened():\n",
    "    raise IOError(\"Video can't open\")\n",
    "    \n",
    "font_scale=3\n",
    "font= cv2.FONT_HERSHEY_PLAIN\n",
    "while True:\n",
    "    ret,frame= cap.read()\n",
    "    \n",
    "    ClassIndex, confidece, bbox=model.detect(frame,confThreshold=0.55)\n",
    "    \n",
    "    print(ClassIndex)\n",
    "    \n",
    "    if(len(ClassIndex)!=0):\n",
    "        for ClassInd, conf, boxes in zip(ClassIndex.flatten(),confidece.flatten(), bbox):\n",
    "            if(ClassInd<=80):\n",
    "                cv2.rectangle(frame,boxes,(255,0,0),2)\n",
    "                cv2.putText(frame,ClassLabels[ClassInd-1],(boxes[0]+10, boxes[1]+40), font, fontScale=font_scale, color=(0,255,0), thickness=3)\n",
    "    cv2.imshow('object detection Tutorial',frame)\n",
    "    \n",
    "    if cv2.waitKey(2)& 0xFF==ord('q'):\n",
    "        break\n",
    "\n",
    "cap.release()\n",
    "cv2.destroyAllWindows()"
   ]
  }
 ],
 "metadata": {
  "kernelspec": {
   "display_name": "Python 3 (ipykernel)",
   "language": "python",
   "name": "python3"
  },
  "language_info": {
   "codemirror_mode": {
    "name": "ipython",
    "version": 3
   },
   "file_extension": ".py",
   "mimetype": "text/x-python",
   "name": "python",
   "nbconvert_exporter": "python",
   "pygments_lexer": "ipython3",
   "version": "3.9.12"
  }
 },
 "nbformat": 4,
 "nbformat_minor": 5
}
